{
 "cells": [
  {
   "cell_type": "code",
   "execution_count": 60,
   "metadata": {},
   "outputs": [],
   "source": [
    "import pandas as pd\n",
    "import numpy as np \n",
    "import matplotlib.pyplot as plt \n",
    "import seaborn as sns \n",
    "from collections import Counter \n",
    "from sklearn.model_selection import train_test_split , cross_val_score\n",
    "from sklearn.linear_model import LinearRegression , LogisticRegression\n",
    "from sklearn.neighbors import KNeighborsClassifier, KNeighborsRegressor\n",
    "from sklearn.ensemble import RandomForestClassifier, RandomForestRegressor\n",
    "from sklearn.preprocessing import LabelEncoder\n",
    "from sklearn.metrics import r2_score, f1_score, accuracy_score, mean_squared_error, classification_report\n",
    "\n"
   ]
  },
  {
   "cell_type": "code",
   "execution_count": 61,
   "metadata": {},
   "outputs": [
    {
     "data": {
      "text/html": [
       "<div>\n",
       "<style scoped>\n",
       "    .dataframe tbody tr th:only-of-type {\n",
       "        vertical-align: middle;\n",
       "    }\n",
       "\n",
       "    .dataframe tbody tr th {\n",
       "        vertical-align: top;\n",
       "    }\n",
       "\n",
       "    .dataframe thead th {\n",
       "        text-align: right;\n",
       "    }\n",
       "</style>\n",
       "<table border=\"1\" class=\"dataframe\">\n",
       "  <thead>\n",
       "    <tr style=\"text-align: right;\">\n",
       "      <th></th>\n",
       "      <th>AREA</th>\n",
       "      <th>PERIMETER</th>\n",
       "      <th>MAJOR_AXIS</th>\n",
       "      <th>MINOR_AXIS</th>\n",
       "      <th>ECCENTRICITY</th>\n",
       "      <th>EQDIASQ</th>\n",
       "      <th>SOLIDITY</th>\n",
       "      <th>CONVEX_AREA</th>\n",
       "      <th>EXTENT</th>\n",
       "      <th>ASPECT_RATIO</th>\n",
       "      <th>...</th>\n",
       "      <th>KurtosisRR</th>\n",
       "      <th>KurtosisRG</th>\n",
       "      <th>KurtosisRB</th>\n",
       "      <th>EntropyRR</th>\n",
       "      <th>EntropyRG</th>\n",
       "      <th>EntropyRB</th>\n",
       "      <th>ALLdaub4RR</th>\n",
       "      <th>ALLdaub4RG</th>\n",
       "      <th>ALLdaub4RB</th>\n",
       "      <th>Class</th>\n",
       "    </tr>\n",
       "  </thead>\n",
       "  <tbody>\n",
       "    <tr>\n",
       "      <th>0</th>\n",
       "      <td>422163</td>\n",
       "      <td>2378.91</td>\n",
       "      <td>837.85</td>\n",
       "      <td>645.67</td>\n",
       "      <td>0.64</td>\n",
       "      <td>733.15</td>\n",
       "      <td>0.99</td>\n",
       "      <td>424428</td>\n",
       "      <td>0.78</td>\n",
       "      <td>1.30</td>\n",
       "      <td>...</td>\n",
       "      <td>3.24</td>\n",
       "      <td>2.96</td>\n",
       "      <td>4.23</td>\n",
       "      <td>-59191263232</td>\n",
       "      <td>-50714214400</td>\n",
       "      <td>-39922372608</td>\n",
       "      <td>58.73</td>\n",
       "      <td>54.96</td>\n",
       "      <td>47.84</td>\n",
       "      <td>BERHI</td>\n",
       "    </tr>\n",
       "    <tr>\n",
       "      <th>1</th>\n",
       "      <td>338136</td>\n",
       "      <td>2085.14</td>\n",
       "      <td>723.82</td>\n",
       "      <td>595.21</td>\n",
       "      <td>0.57</td>\n",
       "      <td>656.15</td>\n",
       "      <td>1.00</td>\n",
       "      <td>339014</td>\n",
       "      <td>0.78</td>\n",
       "      <td>1.22</td>\n",
       "      <td>...</td>\n",
       "      <td>2.62</td>\n",
       "      <td>2.64</td>\n",
       "      <td>3.17</td>\n",
       "      <td>-34233065472</td>\n",
       "      <td>-37462601728</td>\n",
       "      <td>-31477794816</td>\n",
       "      <td>50.03</td>\n",
       "      <td>52.82</td>\n",
       "      <td>47.83</td>\n",
       "      <td>BERHI</td>\n",
       "    </tr>\n",
       "    <tr>\n",
       "      <th>2</th>\n",
       "      <td>526843</td>\n",
       "      <td>2647.39</td>\n",
       "      <td>940.74</td>\n",
       "      <td>715.36</td>\n",
       "      <td>0.65</td>\n",
       "      <td>819.02</td>\n",
       "      <td>1.00</td>\n",
       "      <td>528876</td>\n",
       "      <td>0.77</td>\n",
       "      <td>1.32</td>\n",
       "      <td>...</td>\n",
       "      <td>3.75</td>\n",
       "      <td>3.86</td>\n",
       "      <td>4.72</td>\n",
       "      <td>-93948354560</td>\n",
       "      <td>-74738221056</td>\n",
       "      <td>-60311207936</td>\n",
       "      <td>65.48</td>\n",
       "      <td>59.29</td>\n",
       "      <td>51.94</td>\n",
       "      <td>BERHI</td>\n",
       "    </tr>\n",
       "    <tr>\n",
       "      <th>3</th>\n",
       "      <td>416063</td>\n",
       "      <td>2351.21</td>\n",
       "      <td>827.98</td>\n",
       "      <td>645.30</td>\n",
       "      <td>0.63</td>\n",
       "      <td>727.84</td>\n",
       "      <td>0.99</td>\n",
       "      <td>418255</td>\n",
       "      <td>0.78</td>\n",
       "      <td>1.28</td>\n",
       "      <td>...</td>\n",
       "      <td>5.04</td>\n",
       "      <td>8.61</td>\n",
       "      <td>8.26</td>\n",
       "      <td>-32074307584</td>\n",
       "      <td>-32060925952</td>\n",
       "      <td>-29575010304</td>\n",
       "      <td>43.39</td>\n",
       "      <td>44.13</td>\n",
       "      <td>41.19</td>\n",
       "      <td>BERHI</td>\n",
       "    </tr>\n",
       "    <tr>\n",
       "      <th>4</th>\n",
       "      <td>347562</td>\n",
       "      <td>2160.35</td>\n",
       "      <td>763.99</td>\n",
       "      <td>582.84</td>\n",
       "      <td>0.65</td>\n",
       "      <td>665.23</td>\n",
       "      <td>0.99</td>\n",
       "      <td>350797</td>\n",
       "      <td>0.76</td>\n",
       "      <td>1.31</td>\n",
       "      <td>...</td>\n",
       "      <td>2.70</td>\n",
       "      <td>2.98</td>\n",
       "      <td>4.41</td>\n",
       "      <td>-39980974080</td>\n",
       "      <td>-35980042240</td>\n",
       "      <td>-25593278464</td>\n",
       "      <td>52.77</td>\n",
       "      <td>50.91</td>\n",
       "      <td>42.67</td>\n",
       "      <td>BERHI</td>\n",
       "    </tr>\n",
       "  </tbody>\n",
       "</table>\n",
       "<p>5 rows × 35 columns</p>\n",
       "</div>"
      ],
      "text/plain": [
       "     AREA  PERIMETER  MAJOR_AXIS  MINOR_AXIS  ECCENTRICITY  EQDIASQ  SOLIDITY  \\\n",
       "0  422163    2378.91      837.85      645.67          0.64   733.15      0.99   \n",
       "1  338136    2085.14      723.82      595.21          0.57   656.15      1.00   \n",
       "2  526843    2647.39      940.74      715.36          0.65   819.02      1.00   \n",
       "3  416063    2351.21      827.98      645.30          0.63   727.84      0.99   \n",
       "4  347562    2160.35      763.99      582.84          0.65   665.23      0.99   \n",
       "\n",
       "   CONVEX_AREA  EXTENT  ASPECT_RATIO  ...  KurtosisRR  KurtosisRG  KurtosisRB  \\\n",
       "0       424428    0.78          1.30  ...        3.24        2.96        4.23   \n",
       "1       339014    0.78          1.22  ...        2.62        2.64        3.17   \n",
       "2       528876    0.77          1.32  ...        3.75        3.86        4.72   \n",
       "3       418255    0.78          1.28  ...        5.04        8.61        8.26   \n",
       "4       350797    0.76          1.31  ...        2.70        2.98        4.41   \n",
       "\n",
       "     EntropyRR    EntropyRG    EntropyRB  ALLdaub4RR  ALLdaub4RG  ALLdaub4RB  \\\n",
       "0 -59191263232 -50714214400 -39922372608       58.73       54.96       47.84   \n",
       "1 -34233065472 -37462601728 -31477794816       50.03       52.82       47.83   \n",
       "2 -93948354560 -74738221056 -60311207936       65.48       59.29       51.94   \n",
       "3 -32074307584 -32060925952 -29575010304       43.39       44.13       41.19   \n",
       "4 -39980974080 -35980042240 -25593278464       52.77       50.91       42.67   \n",
       "\n",
       "   Class  \n",
       "0  BERHI  \n",
       "1  BERHI  \n",
       "2  BERHI  \n",
       "3  BERHI  \n",
       "4  BERHI  \n",
       "\n",
       "[5 rows x 35 columns]"
      ]
     },
     "execution_count": 61,
     "metadata": {},
     "output_type": "execute_result"
    }
   ],
   "source": [
    "data = pd.read_excel('H:\\DATA\\MY\\practice\\Practice-23\\Date_Fruit_Datasets.xlsx')\n",
    "data = data.round(2)\n",
    "data.head()"
   ]
  },
  {
   "cell_type": "code",
   "execution_count": 62,
   "metadata": {},
   "outputs": [
    {
     "name": "stdout",
     "output_type": "stream",
     "text": [
      "(898, 35)\n",
      "Counter({'DOKOL': 204, 'SAFAVI': 199, 'ROTANA': 166, 'DEGLET': 98, 'SOGAY': 94, 'IRAQI': 72, 'BERHI': 65})\n"
     ]
    }
   ],
   "source": [
    "print(data.shape)\n",
    "print(Counter(data['Class']))"
   ]
  },
  {
   "cell_type": "code",
   "execution_count": 63,
   "metadata": {},
   "outputs": [
    {
     "name": "stdout",
     "output_type": "stream",
     "text": [
      "AREA             0\n",
      "PERIMETER        0\n",
      "MAJOR_AXIS       0\n",
      "MINOR_AXIS       0\n",
      "ECCENTRICITY     0\n",
      "EQDIASQ          0\n",
      "SOLIDITY         0\n",
      "CONVEX_AREA      0\n",
      "EXTENT           0\n",
      "ASPECT_RATIO     0\n",
      "ROUNDNESS        0\n",
      "COMPACTNESS      0\n",
      "SHAPEFACTOR_1    0\n",
      "SHAPEFACTOR_2    0\n",
      "SHAPEFACTOR_3    0\n",
      "SHAPEFACTOR_4    0\n",
      "MeanRR           0\n",
      "MeanRG           0\n",
      "MeanRB           0\n",
      "StdDevRR         0\n",
      "StdDevRG         0\n",
      "StdDevRB         0\n",
      "SkewRR           0\n",
      "SkewRG           0\n",
      "SkewRB           0\n",
      "KurtosisRR       0\n",
      "KurtosisRG       0\n",
      "KurtosisRB       0\n",
      "EntropyRR        0\n",
      "EntropyRG        0\n",
      "EntropyRB        0\n",
      "ALLdaub4RR       0\n",
      "ALLdaub4RG       0\n",
      "ALLdaub4RB       0\n",
      "Class            0\n",
      "dtype: int64\n"
     ]
    }
   ],
   "source": [
    "print(data.isnull().sum())"
   ]
  },
  {
   "cell_type": "code",
   "execution_count": 64,
   "metadata": {},
   "outputs": [
    {
     "name": "stdout",
     "output_type": "stream",
     "text": [
      "the accuracy score :  0.9055555555555556\n",
      "the classification report :               precision    recall  f1-score   support\n",
      "\n",
      "       BERHI       0.75      0.90      0.82        10\n",
      "      DEGLET       0.85      0.68      0.76        25\n",
      "       DOKOL       0.90      1.00      0.95        45\n",
      "       IRAQI       0.90      0.75      0.82        12\n",
      "      ROTANA       0.94      1.00      0.97        33\n",
      "      SAFAVI       1.00      1.00      1.00        33\n",
      "       SOGAY       0.85      0.77      0.81        22\n",
      "\n",
      "    accuracy                           0.91       180\n",
      "   macro avg       0.88      0.87      0.87       180\n",
      "weighted avg       0.90      0.91      0.90       180\n",
      "\n"
     ]
    }
   ],
   "source": [
    "# let's perform random forest classifier\n",
    "\n",
    "X = data.drop('Class',axis=1)\n",
    "Y = data['Class']\n",
    "\n",
    "model = RandomForestClassifier()\n",
    "\n",
    "x_train, x_test, y_train, y_test = train_test_split(X, Y, test_size=0.2 , random_state=42)\n",
    "\n",
    "model.fit(x_train, y_train)\n",
    "\n",
    "y_pred = model.predict(x_test)\n",
    "\n",
    "accuracy = accuracy_score(y_pred, y_test)\n",
    "report = classification_report(y_pred, y_test)\n",
    "\n",
    "print('the accuracy score : ',accuracy)\n",
    "print('the classification report :', report)\n"
   ]
  },
  {
   "cell_type": "code",
   "execution_count": 65,
   "metadata": {},
   "outputs": [
    {
     "name": "stdout",
     "output_type": "stream",
     "text": [
      "the cross validation results :  [0.90555556 0.86111111 0.88888889 0.91620112 0.86592179]\n",
      "the mean cross validation score :  0.8875356921166977\n"
     ]
    }
   ],
   "source": [
    "# we need to perform cross validation to ensure the accuracy of the model\n",
    "\n",
    "cv_score = cross_val_score(model, X, Y, cv= 5, scoring='accuracy')\n",
    "\n",
    "print('the cross validation results : ',cv_score)\n",
    "print('the mean cross validation score : ',cv_score.mean())\n"
   ]
  },
  {
   "cell_type": "code",
   "execution_count": 66,
   "metadata": {},
   "outputs": [
    {
     "name": "stdout",
     "output_type": "stream",
     "text": [
      "the accuracy score :  0.65\n",
      "the classification report :               precision    recall  f1-score   support\n",
      "\n",
      "       BERHI       0.00      0.00      0.00         8\n",
      "      DEGLET       0.40      0.40      0.40        20\n",
      "       DOKOL       0.74      0.74      0.74        50\n",
      "       IRAQI       0.50      0.36      0.42        14\n",
      "      ROTANA       0.89      0.79      0.84        39\n",
      "      SAFAVI       0.88      0.85      0.87        34\n",
      "       SOGAY       0.35      0.47      0.40        15\n",
      "\n",
      "    accuracy                           0.65       180\n",
      "   macro avg       0.54      0.52      0.52       180\n",
      "weighted avg       0.68      0.65      0.66       180\n",
      "\n"
     ]
    }
   ],
   "source": [
    "# let's perform K neighbors classifier\n",
    "\n",
    "X = data.drop('Class',axis=1)\n",
    "Y = data['Class']\n",
    "\n",
    "model = KNeighborsClassifier()\n",
    "\n",
    "x_train, x_test, y_train, y_test = train_test_split(X, Y, test_size=0.2 , random_state=42)\n",
    "\n",
    "model.fit(x_train, y_train)\n",
    "\n",
    "y_pred = model.predict(x_test)\n",
    "\n",
    "accuracy = accuracy_score(y_pred, y_test)\n",
    "report = classification_report(y_pred, y_test)\n",
    "\n",
    "print('the accuracy score : ',accuracy)\n",
    "print('the classification report :', report)"
   ]
  },
  {
   "cell_type": "code",
   "execution_count": 67,
   "metadata": {},
   "outputs": [
    {
     "name": "stdout",
     "output_type": "stream",
     "text": [
      "the cross validation results :  [0.68333333 0.75555556 0.63888889 0.68715084 0.62011173]\n",
      "the mean cross validation score :  0.677008069522036\n"
     ]
    }
   ],
   "source": [
    "# we need to perform cross validation to ensure the accuracy of the model\n",
    "\n",
    "cv_score = cross_val_score(model, X, Y, cv= 5, scoring='accuracy')\n",
    "\n",
    "print('the cross validation results : ',cv_score)\n",
    "print('the mean cross validation score : ',cv_score.mean())\n"
   ]
  },
  {
   "cell_type": "code",
   "execution_count": 68,
   "metadata": {},
   "outputs": [
    {
     "name": "stdout",
     "output_type": "stream",
     "text": [
      "Fitting 5 folds for each of 243 candidates, totalling 1215 fits\n",
      "Best Parameters: {'colsample_bytree': 0.8, 'learning_rate': 0.2, 'max_depth': 3, 'n_estimators': 200, 'subsample': 0.6}\n",
      "The accuracy score after tuning: 0.9111111111111111\n",
      "Classification Report after tuning:\n",
      "               precision    recall  f1-score   support\n",
      "\n",
      "           0       0.90      0.75      0.82        12\n",
      "           1       0.76      0.80      0.78        20\n",
      "           2       0.98      0.92      0.95        50\n",
      "           3       0.75      0.90      0.82        10\n",
      "           4       1.00      0.94      0.97        35\n",
      "           5       1.00      1.00      1.00        33\n",
      "           6       0.75      0.90      0.82        20\n",
      "\n",
      "    accuracy                           0.91       180\n",
      "   macro avg       0.88      0.89      0.88       180\n",
      "weighted avg       0.92      0.91      0.91       180\n",
      "\n"
     ]
    }
   ],
   "source": [
    "# the can see that , the random forest classifier does a great job with our data \n",
    "# let's try to tune the model , with HPT\n",
    "import xgboost as xgb\n",
    "from sklearn.model_selection import GridSearchCV\n",
    "\n",
    "encoder = LabelEncoder()\n",
    "\n",
    "X = data.drop('Class', axis=1)\n",
    "Y = encoder.fit_transform(data['Class'])\n",
    "\n",
    "x_train, x_test, y_train, y_test = train_test_split(X, Y, test_size=0.2, random_state=42)\n",
    "\n",
    "param_grid = {\n",
    "    'n_estimators': [50, 100, 200],     # Number of boosting rounds\n",
    "    'max_depth': [3, 5, 7],             # Maximum depth of a tree\n",
    "    'learning_rate': [0.01, 0.1, 0.2],  # Step size shrinkage\n",
    "    'subsample': [0.6, 0.8, 1.0],       # Subsample ratio of the training instances\n",
    "    'colsample_bytree': [0.6, 0.8, 1.0] # Subsample ratio of columns when constructing each tree\n",
    "}\n",
    "\n",
    "xgb_model = xgb.XGBClassifier(objective='multi:softmax', random_state=42)\n",
    "grid_search = GridSearchCV(estimator=xgb_model, param_grid=param_grid, \n",
    "                           cv=5, scoring='accuracy', verbose=1, n_jobs=-1)\n",
    "\n",
    "grid_search.fit(x_train, y_train)\n",
    "best_params = grid_search.best_params_\n",
    "best_model = grid_search.best_estimator_\n",
    "y_pred = best_model.predict(x_test)\n",
    "\n",
    "\n",
    "accuracy = accuracy_score(y_test, y_pred)\n",
    "report = classification_report(y_test, y_pred)\n",
    "\n",
    "print(\"Best Parameters:\", best_params)\n",
    "print('The accuracy score after tuning:', accuracy)\n",
    "print('Classification Report after tuning:\\n', report)\n"
   ]
  },
  {
   "cell_type": "code",
   "execution_count": 70,
   "metadata": {},
   "outputs": [
    {
     "name": "stdout",
     "output_type": "stream",
     "text": [
      "the R2 score :  0.9998565097204583\n",
      "the mean squared error :  1614505.5192483028\n"
     ]
    }
   ],
   "source": [
    "# now let's try to perform linear regression , the target variable is AREA\n",
    "\n",
    "\n",
    "for column in data.columns:\n",
    "  if data[column].dtype == object:\n",
    "    data[column] = encoder.fit_transform(data[column])\n",
    "    \n",
    "X = data.drop('AREA',axis = 1)\n",
    "Y = data['AREA']\n",
    "x_train, x_test, y_train, y_test = train_test_split(X, Y, test_size= 0.2, random_state= 42)\n",
    "\n",
    "model = LinearRegression()\n",
    "model.fit(x_train, y_train)\n",
    "\n",
    "y_pred = model.predict(x_test)\n",
    "\n",
    "r2 = r2_score(y_pred, y_test)\n",
    "mse = mean_squared_error(y_pred, y_test)\n",
    "\n",
    "print('the R2 score : ',r2)\n",
    "print('the mean squared error : ',mse)"
   ]
  },
  {
   "cell_type": "code",
   "execution_count": 71,
   "metadata": {},
   "outputs": [
    {
     "name": "stdout",
     "output_type": "stream",
     "text": [
      "the cross validation score :  [  0.99983615   0.5672868    0.99951283 -53.18780725   0.9990209 ]\n",
      "the mean cross validation score  -9.924430114410123\n"
     ]
    }
   ],
   "source": [
    "cv_score = cross_val_score(model, X ,Y , cv= 5, scoring='r2')\n",
    "\n",
    "print('the cross validation score : ',cv_score)\n",
    "print('the mean cross validation score ',cv_score.mean())\n",
    "\n",
    "# we can see that the performance of the model is not consistent which might be an issue of overfitting "
   ]
  },
  {
   "cell_type": "code",
   "execution_count": 72,
   "metadata": {},
   "outputs": [
    {
     "name": "stdout",
     "output_type": "stream",
     "text": [
      "the R2 score :  0.9891439736545731\n",
      "the mean squared error : 121905791.82425013\n"
     ]
    }
   ],
   "source": [
    "# we need to apply dimension reduction , and keep only the features with high impact to the target variable\n",
    "# we are performing PCA for that\n",
    "from sklearn.decomposition import PCA\n",
    "from sklearn.preprocessing import StandardScaler\n",
    "\n",
    "for column in data.columns:\n",
    "  if data[column].dtype == object:\n",
    "    data[column] = encoder.fit_transform(data[column])\n",
    "    \n",
    "X = data.drop('AREA',axis = 1)\n",
    "Y = data['AREA']\n",
    "\n",
    "scaler = StandardScaler()\n",
    "scaled_data = scaler.fit_transform(X)\n",
    "\n",
    "pca = PCA(n_components=0.95)  # Keep 95% of the variance\n",
    "X_pca = pca.fit_transform(scaled_data)\n",
    "X = pd.DataFrame(X_pca)\n",
    "\n",
    "model = LinearRegression()\n",
    "\n",
    "x_train, x_test, y_train, y_test = train_test_split(X, Y, test_size= 0.2, random_state= 42)\n",
    "\n",
    "model.fit(x_train, y_train)\n",
    "y_pred = model.predict(x_test)\n",
    "\n",
    "r2 = r2_score(y_pred, y_test)\n",
    "mse = mean_squared_error(y_pred, y_test)\n",
    "\n",
    "print('the R2 score : ',r2)\n",
    "print('the mean squared error :',mse)"
   ]
  },
  {
   "cell_type": "code",
   "execution_count": 73,
   "metadata": {},
   "outputs": [
    {
     "name": "stdout",
     "output_type": "stream",
     "text": [
      "the cross validation score :  [ 0.98418762  0.38143626  0.93463049 -0.42987599  0.92980847]\n",
      "the mean cross validation score :  0.5600373713029947\n"
     ]
    }
   ],
   "source": [
    "cv_score = cross_val_score(model, X, Y, scoring='r2')\n",
    "\n",
    "print('the cross validation score : ',cv_score)\n",
    "print('the mean cross validation score : ',cv_score.mean())"
   ]
  },
  {
   "cell_type": "code",
   "execution_count": null,
   "metadata": {},
   "outputs": [
    {
     "name": "stdout",
     "output_type": "stream",
     "text": [
      "the cross validation score for the Lasso reg :  [ 0.98419997  0.38168769  0.93463155 -0.39925504  0.92978952]\n",
      "the mean cross validation score for the Lasso reg :  0.5662107387983736\n"
     ]
    }
   ],
   "source": [
    "from sklearn.linear_model import Lasso,Ridge\n",
    "\n",
    "model = Lasso()\n",
    "model.fit(x_train, y_train)\n",
    "\n",
    "cv_score = cross_val_score(model, X, Y, scoring= 'r2')\n",
    "\n",
    "print('the cross validation score for the Lasso reg : ', cv_score)\n",
    "print('the mean cross validation score for the Lasso reg : ', cv_score.mean())"
   ]
  },
  {
   "cell_type": "code",
   "execution_count": null,
   "metadata": {},
   "outputs": [
    {
     "name": "stdout",
     "output_type": "stream",
     "text": [
      "the cross validation score for the Lasso reg :  [0.85999647 0.14357339 0.78936528 0.5767478  0.51266126]\n",
      "the mean cross validation score for the Lasso reg :  0.5764688404753663\n"
     ]
    }
   ],
   "source": [
    "model = KNeighborsRegressor(n_neighbors= 3)\n",
    "model.fit(x_train, y_train)\n",
    "\n",
    "cv_score = cross_val_score(model, X, Y, scoring= 'r2')\n",
    "\n",
    "print('the cross validation score for the Lasso reg : ', cv_score)\n",
    "print('the mean cross validation score for the Lasso reg : ', cv_score.mean())"
   ]
  },
  {
   "cell_type": "code",
   "execution_count": 74,
   "metadata": {},
   "outputs": [
    {
     "name": "stdout",
     "output_type": "stream",
     "text": [
      "(808, 35)\n"
     ]
    }
   ],
   "source": [
    "# the model is performing poorly due to many factors , one of them could be the outlier values ,\n",
    "# so why are going to exclude those values and re-perform the model \n",
    "\n",
    "for column in data.columns: \n",
    "  if data[column].dtype != object:\n",
    "    Q1 = data[column].quantile(0.15)\n",
    "    Q3 = data[column].quantile(0.85)\n",
    "    IQR = Q3 - Q1\n",
    "    \n",
    "    lower_bound = Q1 - 1.5*IQR\n",
    "    upper_bound = Q3 + 1.5*IQR\n",
    "    \n",
    "    data = data[(data[column] >= lower_bound) & (data[column] <= upper_bound)]\n",
    "print(data.shape)"
   ]
  },
  {
   "cell_type": "code",
   "execution_count": 75,
   "metadata": {},
   "outputs": [
    {
     "name": "stdout",
     "output_type": "stream",
     "text": [
      "the R2 score :  0.9911848314222216\n",
      "the mean squared error : 101008445.88763496\n"
     ]
    }
   ],
   "source": [
    "X = data.drop('AREA',axis = 1)\n",
    "Y = data['AREA']\n",
    "\n",
    "scaler = StandardScaler()\n",
    "scaled_data = scaler.fit_transform(X)\n",
    "\n",
    "pca = PCA(n_components=0.95)  # Keep 95% of the variance\n",
    "X_pca = pca.fit_transform(scaled_data)\n",
    "X = pd.DataFrame(X_pca)\n",
    "\n",
    "model = LinearRegression()\n",
    "\n",
    "x_train, x_test, y_train, y_test = train_test_split(X, Y, test_size= 0.2, random_state= 42)\n",
    "\n",
    "model.fit(x_train, y_train)\n",
    "y_pred = model.predict(x_test)\n",
    "\n",
    "r2 = r2_score(y_pred, y_test)\n",
    "mse = mean_squared_error(y_pred, y_test)\n",
    "\n",
    "print('the R2 score : ',r2)\n",
    "print('the mean squared error :',mse)"
   ]
  },
  {
   "cell_type": "code",
   "execution_count": 76,
   "metadata": {},
   "outputs": [
    {
     "name": "stdout",
     "output_type": "stream",
     "text": [
      "the cross validation score for the Lasso reg :  [0.98746256 0.57845665 0.97241711 0.93933079 0.93568227]\n",
      "the mean cross validation score for the Lasso reg :  0.8826698779416453\n"
     ]
    }
   ],
   "source": [
    "model = LinearRegression()\n",
    "cv_score = cross_val_score(model, X, Y, scoring= 'r2')\n",
    "\n",
    "print('the cross validation score for the Lasso reg : ', cv_score)\n",
    "print('the mean cross validation score for the Lasso reg : ', cv_score.mean())"
   ]
  },
  {
   "cell_type": "code",
   "execution_count": null,
   "metadata": {},
   "outputs": [
    {
     "data": {
      "text/plain": [
       "<matplotlib.collections.PathCollection at 0x20efe0408d0>"
      ]
     },
     "execution_count": 56,
     "metadata": {},
     "output_type": "execute_result"
    },
    {
     "data": {
      "image/png": "[encoded data removed]",
      "text/plain": [
       "<Figure size 640x480 with 1 Axes>"
      ]
     },
     "metadata": {},
     "output_type": "display_data"
    }
   ],
   "source": [
    "plt.scatter(y_pred, y_test)"
   ]
  },
  {
   "cell_type": "code",
   "execution_count": 77,
   "metadata": {},
   "outputs": [
    {
     "name": "stdout",
     "output_type": "stream",
     "text": [
      "the cross validation score for the Lasso reg :  [0.80016829 0.27428136 0.91050139 0.6652081  0.53141438]\n",
      "the mean cross validation score for the Lasso reg :  0.6363147027253806\n"
     ]
    }
   ],
   "source": [
    "model = KNeighborsRegressor(n_neighbors= 3)\n",
    "model.fit(x_train, y_train)\n",
    "\n",
    "cv_score = cross_val_score(model, X, Y, scoring= 'r2')\n",
    "\n",
    "print('the cross validation score for the Lasso reg : ', cv_score)\n",
    "print('the mean cross validation score for the Lasso reg : ', cv_score.mean())"
   ]
  }
 ],
 "metadata": {
  "kernelspec": {
   "display_name": "base",
   "language": "python",
   "name": "python3"
  },
  "language_info": {
   "codemirror_mode": {
    "name": "ipython",
    "version": 3
   },
   "file_extension": ".py",
   "mimetype": "text/x-python",
   "name": "python",
   "nbconvert_exporter": "python",
   "pygments_lexer": "ipython3",
   "version": "3.11.5"
  }
 },
 "nbformat": 4,
 "nbformat_minor": 2
}
